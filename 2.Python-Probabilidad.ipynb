{
 "cells": [
  {
   "cell_type": "markdown",
   "metadata": {},
   "source": [
    "1. Lanza una moneda al aire 10 veces, ¿cuantos resultados posibles forman parte del espacio muestral?."
   ]
  },
  {
   "cell_type": "code",
   "execution_count": 1,
   "metadata": {},
   "outputs": [
    {
     "name": "stdout",
     "output_type": "stream",
     "text": [
      "Resultados posibles en el espacio muestral: 1024\n"
     ]
    }
   ],
   "source": [
    "resultados_posibles = 2 ** 10\n",
    "print(\"Resultados posibles en el espacio muestral:\", resultados_posibles)\n",
    "\n",
    "# significa que hay 1024 resultados posibles en el espacio muestral cuando lanzas una moneda al aire 10 veces. \n"
   ]
  },
  {
   "cell_type": "markdown",
   "metadata": {},
   "source": [
    "2. En un aeropuerto se tiene a 10 pasajeros esperando en la sala de preembarque, la polícia debe controlar a 3 de ellos. ¿Cuantas combinaciones posibles se pueden obtener?."
   ]
  },
  {
   "cell_type": "code",
   "execution_count": 3,
   "metadata": {},
   "outputs": [
    {
     "name": "stdout",
     "output_type": "stream",
     "text": [
      "Combinaciones posibles: 120.0\n"
     ]
    }
   ],
   "source": [
    "# Función para calcular el factorial de un número\n",
    "def factorial(num):\n",
    "    if num == 0:\n",
    "        return 1\n",
    "    else:\n",
    "        return num * factorial(num - 1)\n",
    "\n",
    "# Número total de pasajeros\n",
    "n = 10\n",
    "\n",
    "# Número de pasajeros que la policía debe controlar\n",
    "k = 3\n",
    "\n",
    "# Calcula las combinaciones posibles usando factoriales\n",
    "combinaciones_posibles = factorial(n) / (factorial(k) * factorial(n - k))\n",
    "\n",
    "# Muestra la cantidad de combinaciones posibles\n",
    "print(\"Combinaciones posibles:\", combinaciones_posibles)\n"
   ]
  },
  {
   "cell_type": "code",
   "execution_count": 2,
   "metadata": {},
   "outputs": [
    {
     "name": "stdout",
     "output_type": "stream",
     "text": [
      "Combinaciones posibles: 120\n"
     ]
    }
   ],
   "source": [
    "from itertools import combinations\n",
    "\n",
    "# Número total de pasajeros\n",
    "n = 10\n",
    "\n",
    "# Número de pasajeros que la policía debe controlar\n",
    "k = 3\n",
    "\n",
    "# Calcula las combinaciones posibles\n",
    "combinaciones_posibles = list(combinations(range(1, n + 1), k))\n",
    "\n",
    "# Muestra la cantidad de combinaciones posibles\n",
    "print(\"Combinaciones posibles:\", len(combinaciones_posibles))\n"
   ]
  },
  {
   "cell_type": "markdown",
   "metadata": {},
   "source": [
    "3. La Agencia Nacional de Seguridad Vial realizó una investigación para saber si los conductores de están usando sus cinturones de seguridad. Los datos muestrales fueron los siguientes:<br>\n",
    "Conductores que emplean el cinturón <br>\n",
    "![Alt text](image.png)"
   ]
  },
  {
   "cell_type": "markdown",
   "metadata": {},
   "source": [
    " a) ¿Qué metodo cree que se utilizo para asignar probabilidades?."
   ]
  },
  {
   "cell_type": "markdown",
   "metadata": {},
   "source": [
    "CON LA FRECUENCIA RELATIVA- corriente frecuentista"
   ]
  },
  {
   "cell_type": "code",
   "execution_count": 13,
   "metadata": {},
   "outputs": [
    {
     "data": {
      "text/html": [
       "<div>\n",
       "<style scoped>\n",
       "    .dataframe tbody tr th:only-of-type {\n",
       "        vertical-align: middle;\n",
       "    }\n",
       "\n",
       "    .dataframe tbody tr th {\n",
       "        vertical-align: top;\n",
       "    }\n",
       "\n",
       "    .dataframe thead th {\n",
       "        text-align: right;\n",
       "    }\n",
       "</style>\n",
       "<table border=\"1\" class=\"dataframe\">\n",
       "  <thead>\n",
       "    <tr style=\"text-align: right;\">\n",
       "      <th></th>\n",
       "      <th>SI</th>\n",
       "      <th>NO</th>\n",
       "    </tr>\n",
       "    <tr>\n",
       "      <th>Region</th>\n",
       "      <th></th>\n",
       "      <th></th>\n",
       "    </tr>\n",
       "  </thead>\n",
       "  <tbody>\n",
       "    <tr>\n",
       "      <th>Norte</th>\n",
       "      <td>148</td>\n",
       "      <td>52</td>\n",
       "    </tr>\n",
       "    <tr>\n",
       "      <th>Noreste</th>\n",
       "      <td>162</td>\n",
       "      <td>54</td>\n",
       "    </tr>\n",
       "    <tr>\n",
       "      <th>Sur</th>\n",
       "      <td>296</td>\n",
       "      <td>74</td>\n",
       "    </tr>\n",
       "    <tr>\n",
       "      <th>Centro</th>\n",
       "      <td>252</td>\n",
       "      <td>48</td>\n",
       "    </tr>\n",
       "    <tr>\n",
       "      <th>TOTAL</th>\n",
       "      <td>858</td>\n",
       "      <td>228</td>\n",
       "    </tr>\n",
       "  </tbody>\n",
       "</table>\n",
       "</div>"
      ],
      "text/plain": [
       "          SI   NO\n",
       "Region           \n",
       "Norte    148   52\n",
       "Noreste  162   54\n",
       "Sur      296   74\n",
       "Centro   252   48\n",
       "TOTAL    858  228"
      ]
     },
     "execution_count": 13,
     "metadata": {},
     "output_type": "execute_result"
    }
   ],
   "source": [
    "import pandas as pd\n",
    "import numpy as np\n",
    "\n",
    "cinturon = {'Region': ['Norte', 'Noreste', 'Sur', 'Centro'], \n",
    "            'SI': [148, 162, 296, 252], \n",
    "            'NO':[52,54,74,48]}\n",
    "\n",
    "df = pd.DataFrame(cinturon)\n",
    "df = df.set_index('Region')\n",
    "df.loc['TOTAL'] = sum(df.SI), sum(df.NO)\n",
    "df"
   ]
  },
  {
   "cell_type": "markdown",
   "metadata": {},
   "source": [
    "b) Construya un cuadro similar, pero con la asignación de probabilidades."
   ]
  },
  {
   "cell_type": "code",
   "execution_count": 27,
   "metadata": {},
   "outputs": [
    {
     "data": {
      "text/plain": [
       "1086"
      ]
     },
     "execution_count": 27,
     "metadata": {},
     "output_type": "execute_result"
    }
   ],
   "source": [
    "(df.loc['TOTAL', 'SI']+df.loc['TOTAL', 'NO']) # total casos estudiados"
   ]
  },
  {
   "cell_type": "code",
   "execution_count": 30,
   "metadata": {},
   "outputs": [
    {
     "name": "stdout",
     "output_type": "stream",
     "text": [
      "          SI   NO  Probabilidad_SI  Probabilidad_NO     TOTAL\n",
      "Region                                                       \n",
      "Norte    148   52         0.136280         0.047882  0.184162\n",
      "Noreste  162   54         0.149171         0.049724  0.198895\n",
      "Sur      296   74         0.272560         0.068140  0.340700\n",
      "Centro   252   48         0.232044         0.044199  0.276243\n",
      "TOTAL    858  228         0.790055         0.209945  1.000000\n"
     ]
    },
    {
     "data": {
      "text/html": [
       "<div>\n",
       "<style scoped>\n",
       "    .dataframe tbody tr th:only-of-type {\n",
       "        vertical-align: middle;\n",
       "    }\n",
       "\n",
       "    .dataframe tbody tr th {\n",
       "        vertical-align: top;\n",
       "    }\n",
       "\n",
       "    .dataframe thead th {\n",
       "        text-align: right;\n",
       "    }\n",
       "</style>\n",
       "<table border=\"1\" class=\"dataframe\">\n",
       "  <thead>\n",
       "    <tr style=\"text-align: right;\">\n",
       "      <th></th>\n",
       "      <th>SI</th>\n",
       "      <th>NO</th>\n",
       "      <th>Probabilidad_SI</th>\n",
       "      <th>Probabilidad_NO</th>\n",
       "      <th>TOTAL</th>\n",
       "    </tr>\n",
       "    <tr>\n",
       "      <th>Region</th>\n",
       "      <th></th>\n",
       "      <th></th>\n",
       "      <th></th>\n",
       "      <th></th>\n",
       "      <th></th>\n",
       "    </tr>\n",
       "  </thead>\n",
       "  <tbody>\n",
       "    <tr>\n",
       "      <th>Norte</th>\n",
       "      <td>148</td>\n",
       "      <td>52</td>\n",
       "      <td>0.136280</td>\n",
       "      <td>0.047882</td>\n",
       "      <td>0.184162</td>\n",
       "    </tr>\n",
       "    <tr>\n",
       "      <th>Noreste</th>\n",
       "      <td>162</td>\n",
       "      <td>54</td>\n",
       "      <td>0.149171</td>\n",
       "      <td>0.049724</td>\n",
       "      <td>0.198895</td>\n",
       "    </tr>\n",
       "    <tr>\n",
       "      <th>Sur</th>\n",
       "      <td>296</td>\n",
       "      <td>74</td>\n",
       "      <td>0.272560</td>\n",
       "      <td>0.068140</td>\n",
       "      <td>0.340700</td>\n",
       "    </tr>\n",
       "    <tr>\n",
       "      <th>Centro</th>\n",
       "      <td>252</td>\n",
       "      <td>48</td>\n",
       "      <td>0.232044</td>\n",
       "      <td>0.044199</td>\n",
       "      <td>0.276243</td>\n",
       "    </tr>\n",
       "    <tr>\n",
       "      <th>TOTAL</th>\n",
       "      <td>858</td>\n",
       "      <td>228</td>\n",
       "      <td>0.790055</td>\n",
       "      <td>0.209945</td>\n",
       "      <td>1.000000</td>\n",
       "    </tr>\n",
       "  </tbody>\n",
       "</table>\n",
       "</div>"
      ],
      "text/plain": [
       "          SI   NO  Probabilidad_SI  Probabilidad_NO     TOTAL\n",
       "Region                                                       \n",
       "Norte    148   52         0.136280         0.047882  0.184162\n",
       "Noreste  162   54         0.149171         0.049724  0.198895\n",
       "Sur      296   74         0.272560         0.068140  0.340700\n",
       "Centro   252   48         0.232044         0.044199  0.276243\n",
       "TOTAL    858  228         0.790055         0.209945  1.000000"
      ]
     },
     "execution_count": 30,
     "metadata": {},
     "output_type": "execute_result"
    }
   ],
   "source": [
    "\n",
    "\n",
    "# Calcular las probabilidades y agregarlas como nuevas columnas\n",
    "df['Probabilidad_SI'] = df['SI'] / (df.loc['TOTAL', 'SI']+df.loc['TOTAL', 'NO'])\n",
    "df['Probabilidad_NO'] = df['NO'] / (df.loc['TOTAL', 'SI']+df.loc['TOTAL', 'NO'])\n",
    "df['TOTAL']=df['Probabilidad_NO']+df['Probabilidad_SI']\n",
    "\n",
    "# Mostrar el DataFrame con las nuevas columnas de probabilidad\n",
    "print(df)\n",
    "df\n"
   ]
  },
  {
   "cell_type": "markdown",
   "metadata": {},
   "source": [
    " c) ¿Cuál sería el mejor método pára estimar la probabilidad de que en Estados Unidos un conductor lleve puesto el cinturón?."
   ]
  },
  {
   "cell_type": "code",
   "execution_count": 4,
   "metadata": {},
   "outputs": [
    {
     "data": {
      "text/plain": [
       "79"
      ]
     },
     "execution_count": 4,
     "metadata": {},
     "output_type": "execute_result"
    }
   ],
   "source": [
    "#total de casos si/cant total= \n",
    "suma =round(858/1086 *100)\n",
    "suma"
   ]
  },
  {
   "cell_type": "markdown",
   "metadata": {},
   "source": [
    "d) Un año antes, la probabilidad en Argentina de que un conductor llevara puesto el cinturón era 0.75. El director de ANSV, se esperaba que la probabilidad llegara a 0.78. ¿Estará satisfecho con los resultados del estudio? (Utilizar tabla adjunta"
   ]
  },
  {
   "cell_type": "code",
   "execution_count": 22,
   "metadata": {},
   "outputs": [
    {
     "name": "stdout",
     "output_type": "stream",
     "text": [
      "El director de ANSV podría estar satisfecho con los resultados del estudio.\n",
      "Prob observada: 0.7900552486187845\n"
     ]
    }
   ],
   "source": [
    "# Calcular las probabilidades observadas promedio\n",
    "total_si = df.loc[df['Region'] == 'TOTAL', 'SI'].values[0]\n",
    "total_conductores = df.loc[df['Region'] == 'TOTAL', 'SI'].values[0] + df.loc[df['Region'] == 'TOTAL', 'NO'].values[0]\n",
    "\n",
    "probabilidad_observada_promedio = total_si / total_conductores\n",
    "\n",
    "# Probabilidad esperada\n",
    "probabilidad_esperada = 0.78\n",
    "\n",
    "# Comparar las probabilidades\n",
    "if probabilidad_observada_promedio >= probabilidad_esperada:\n",
    "    print(\"El director de ANSV podría estar satisfecho con los resultados del estudio.\")\n",
    "    print('Prob observada:', probabilidad_observada_promedio)\n",
    "else:\n",
    "    print(\"El director de ANSV podría no estar completamente satisfecho con los resultados del estudio.\")\n"
   ]
  },
  {
   "cell_type": "markdown",
   "metadata": {},
   "source": [
    "e) ¿Cuál es la probabilidad de que se use el cinturón en las distintas regiones del país? ¿En qué región se usa más el cinturón?(Utilizar misma tabla que el ejercicio anterior).\n"
   ]
  },
  {
   "cell_type": "code",
   "execution_count": 32,
   "metadata": {},
   "outputs": [
    {
     "name": "stdout",
     "output_type": "stream",
     "text": [
      "\n",
      "La región donde se usa más el cinturón es sur con una probabilidad de 27%\n"
     ]
    }
   ],
   "source": [
    "# ver columna del SI en probabilidades - para cada region\n",
    "\n",
    "print(f\"\\nLa región donde se usa más el cinturón es sur con una probabilidad de 27%\")\n"
   ]
  },
  {
   "cell_type": "markdown",
   "metadata": {},
   "source": [
    "4. Crear una funcion que permita calcular a probabilidad de los siguientes eventos en un baraja de 52 cartas.<br>\n",
    "- Obtener una carta roja.<br>\n",
    "- Obtener una carta negra.<br>\n",
    "- Obtener una pica.<br>\n",
    "- Obtener un trébol.<br>\n",
    "- Obtener un corazón.<br>\n",
    "- Obtener un diamante.<br>"
   ]
  },
  {
   "cell_type": "code",
   "execution_count": 27,
   "metadata": {},
   "outputs": [
    {
     "name": "stdout",
     "output_type": "stream",
     "text": [
      "Probabilidad Carta Roja: 0.5000\n",
      "Probabilidad Carta Negra: 0.5000\n",
      "Probabilidad Pica: 0.2500\n",
      "Probabilidad Trébol: 0.2500\n",
      "Probabilidad Corazón: 0.2500\n",
      "Probabilidad Diamante: 0.2500\n"
     ]
    }
   ],
   "source": [
    "def calcular_probabilidad_cartas():\n",
    "    # Total de cartas en la baraja\n",
    "    total_cartas = 52\n",
    "    \n",
    "    # Número de cartas de cada tipo\n",
    "    cartas_rojas = 26  # Diamantes y Corazones\n",
    "    cartas_negras = 26  # Picas y Tréboles\n",
    "    picas = 13\n",
    "    treboles = 13\n",
    "    corazones = 13\n",
    "    diamantes = 13\n",
    "    \n",
    "    # Calcular probabilidades\n",
    "    probabilidad_carta_roja = cartas_rojas / total_cartas\n",
    "    probabilidad_carta_negra = cartas_negras / total_cartas\n",
    "    probabilidad_pica = picas / total_cartas\n",
    "    probabilidad_trebol = treboles / total_cartas\n",
    "    probabilidad_corazon = corazones / total_cartas\n",
    "    probabilidad_diamante = diamantes / total_cartas\n",
    "    \n",
    "    # Devolver los resultados\n",
    "    return {\n",
    "        \"Probabilidad Carta Roja\": probabilidad_carta_roja,\n",
    "        \"Probabilidad Carta Negra\": probabilidad_carta_negra,\n",
    "        \"Probabilidad Pica\": probabilidad_pica,\n",
    "        \"Probabilidad Trébol\": probabilidad_trebol,\n",
    "        \"Probabilidad Corazón\": probabilidad_corazon,\n",
    "        \"Probabilidad Diamante\": probabilidad_diamante,\n",
    "    }\n",
    "\n",
    "# Llamar a la función y mostrar los resultados\n",
    "resultados = calcular_probabilidad_cartas()\n",
    "for evento, probabilidad in resultados.items():\n",
    "    print(f\"{evento}: {probabilidad:.4f}\")\n"
   ]
  },
  {
   "cell_type": "markdown",
   "metadata": {},
   "source": [
    "5. La probabilidad de que salga un 7 o un 8 al seleccionar una carta de una baraja de las 52 cartas que contiene el mazo. <br>"
   ]
  },
  {
   "cell_type": "code",
   "execution_count": 28,
   "metadata": {},
   "outputs": [
    {
     "name": "stdout",
     "output_type": "stream",
     "text": [
      "La probabilidad de obtener un 7 o un 8 es: 0.1538\n"
     ]
    }
   ],
   "source": [
    "# Número de cartas que son 7 u 8\n",
    "cartas_7_8 = 8  # 4 cartas de 7 y 4 cartas de 8\n",
    "\n",
    "# Número total de cartas en la baraja\n",
    "total_cartas = 52\n",
    "\n",
    "# Calcular la probabilidad\n",
    "probabilidad = cartas_7_8 / total_cartas\n",
    "\n",
    "# Mostrar la probabilidad\n",
    "print(f\"La probabilidad de obtener un 7 o un 8 es: {probabilidad:.4f}\")\n"
   ]
  },
  {
   "cell_type": "markdown",
   "metadata": {},
   "source": [
    "6. La probabilidad de tu país gane el mundial de fútbol.<br>"
   ]
  },
  {
   "cell_type": "markdown",
   "metadata": {},
   "source": [
    "Para obtener una estimación de la probabilidad de que tu país gane un próximo Mundial, deberías considerar:\n",
    "\n",
    "Analizar el rendimiento histórico del equipo en torneos anteriores.\n",
    "Evaluar la calidad y el rendimiento actual de los jugadores clave.\n",
    "Considerar el estado actual de la competencia y los equipos rivales.\n",
    "Consultar las probabilidades ofrecidas por casas de apuestas deportivas, si están disponibles."
   ]
  },
  {
   "cell_type": "code",
   "execution_count": null,
   "metadata": {},
   "outputs": [],
   "source": []
  },
  {
   "cell_type": "markdown",
   "metadata": {},
   "source": [
    "7. Un experimento que tiene tres resultados es repetido 50 veces y se ve que E1 aparece 20 veces, E2 13 veces y E3 17 veces. Asigne probabilidades a los resultados.<br>"
   ]
  },
  {
   "cell_type": "code",
   "execution_count": 29,
   "metadata": {},
   "outputs": [
    {
     "name": "stdout",
     "output_type": "stream",
     "text": [
      "Probabilidad de E1: 0.40\n",
      "Probabilidad de E2: 0.26\n",
      "Probabilidad de E3: 0.34\n"
     ]
    }
   ],
   "source": [
    "# Número de veces que apareció cada resultado\n",
    "E1 = 20\n",
    "E2 = 13\n",
    "E3 = 17\n",
    "\n",
    "# Número total de repeticiones del experimento\n",
    "total_repeticiones = 50\n",
    "\n",
    "# Calcular las probabilidades\n",
    "prob_E1 = E1 / total_repeticiones\n",
    "prob_E2 = E2 / total_repeticiones\n",
    "prob_E3 = E3 / total_repeticiones\n",
    "\n",
    "# Mostrar las probabilidades\n",
    "print(f\"Probabilidad de E1: {prob_E1:.2f}\")\n",
    "print(f\"Probabilidad de E2: {prob_E2:.2f}\")\n",
    "print(f\"Probabilidad de E3: {prob_E3:.2f}\")\n"
   ]
  },
  {
   "cell_type": "markdown",
   "metadata": {},
   "source": [
    "## Desafíos complementarios \n",
    "\n",
    "### Investiga e intenta resolver los siguientes ejercicios\n",
    "\n",
    "1. Si la probabilidad de que un cliente pague en efectivo (E) es 6/15, con tarjeta de crédito (TD) es 7/15 y con tarjeta de débito (TD) es 2/15. Hallar la probabilidad de que dos clientes sucesivos que pagan sus cuentas lo hagan:<br>\n",
    " \n",
    " \n"
   ]
  },
  {
   "cell_type": "markdown",
   "metadata": {},
   "source": [
    "a) el primero en efectivo y el segundo con tarjeta de crédito.<br>"
   ]
  },
  {
   "cell_type": "code",
   "execution_count": 31,
   "metadata": {},
   "outputs": [
    {
     "name": "stdout",
     "output_type": "stream",
     "text": [
      "Probabilidad de que el primer cliente pague en efectivo y el segundo con tarjeta de credito: 0.0533\n"
     ]
    }
   ],
   "source": [
    "# Probabilidades dadas\n",
    "P_E = 6/15\n",
    "P_TC = 7/15\n",
    "P_TD = 2/15\n",
    "\n",
    "# Probabilidad de que el primer cliente pague en efectivo y el segundo con tarjeta de credito\n",
    "P1_E_P2_TD = P_E * P_TD\n",
    "\n",
    "print(f\"Probabilidad de que el primer cliente pague en efectivo y el segundo con tarjeta de credito: {P1_E_P2_TD:.4f}\")"
   ]
  },
  {
   "cell_type": "markdown",
   "metadata": {},
   "source": [
    "b) Los dos clientes en efectivo<br>"
   ]
  },
  {
   "cell_type": "code",
   "execution_count": 30,
   "metadata": {},
   "outputs": [
    {
     "name": "stdout",
     "output_type": "stream",
     "text": [
      "Probabilidad de que dos clientes paguen en efectivo: 0.1600\n",
      "Probabilidad de que dos clientes paguen con tarjeta de crédito: 0.2178\n",
      "Probabilidad de que dos clientes paguen con tarjeta de débito: 0.0178\n"
     ]
    }
   ],
   "source": [
    "\n",
    "\n",
    "# Probabilidad de que el primer cliente pague en efectivo y el segundo también en efectivo\n",
    "P1_E_P2_E = P_E * P_E\n",
    "\n",
    "# Probabilidad de que el primer cliente pague con tarjeta de crédito y el segundo también con tarjeta de crédito\n",
    "P1_TC_P2_TC = P_TC * P_TC\n",
    "\n",
    "# Probabilidad de que el primer cliente pague con tarjeta de débito y el segundo también con tarjeta de débito\n",
    "P1_TD_P2_TD = P_TD * P_TD\n",
    "\n",
    "print(f\"Probabilidad de que dos clientes paguen en efectivo: {P1_E_P2_E:.4f}\")\n",
    "print(f\"Probabilidad de que dos clientes paguen con tarjeta de crédito: {P1_TC_P2_TC:.4f}\")\n",
    "print(f\"Probabilidad de que dos clientes paguen con tarjeta de débito: {P1_TD_P2_TD:.4f}\")\n"
   ]
  },
  {
   "cell_type": "markdown",
   "metadata": {},
   "source": [
    "2. La probabilidad de que un Henry repruebe el M1 de 0.8, de que apruebe M2 es 0.5 y de que repruebe el M3 es de 0.4.<br>\n",
    " (Los eventos no interfieren entre si) <br>\n",
    "![Alt text](image-2.png)\n",
    "\n",
    " Determinar la probabilidad de que:<br>\n",
    " a) Apruebe un módulo.<br>\n",
    " b) Repruebe las tres materias."
   ]
  },
  {
   "cell_type": "code",
   "execution_count": 32,
   "metadata": {},
   "outputs": [
    {
     "name": "stdout",
     "output_type": "stream",
     "text": [
      "Probabilidad de aprobar al menos un módulo (a): 0.8400\n",
      "Probabilidad de reprobar las tres materias (b): 0.1600\n"
     ]
    }
   ],
   "source": [
    "# Probabilidades dadas\n",
    "P_reprobar_M1 = 0.8\n",
    "P_aprobar_M2 = 0.5\n",
    "P_reprobar_M3 = 0.4\n",
    "\n",
    "# Probabilidad de aprobar M1\n",
    "P_aprobar_M1 = 1 - P_reprobar_M1\n",
    "\n",
    "# Probabilidad de aprobar al menos un módulo (a)\n",
    "P_aprobar_al_menos_un_modulo = 1 - (P_reprobar_M1 * (1 - P_aprobar_M2) * P_reprobar_M3)\n",
    "\n",
    "# Probabilidad de reprobar las tres materias (b)\n",
    "P_reprobar_tres_materias = P_reprobar_M1 * (1 - P_aprobar_M2) * P_reprobar_M3\n",
    "\n",
    "# Mostrar las probabilidades\n",
    "print(f\"Probabilidad de aprobar al menos un módulo (a): {P_aprobar_al_menos_un_modulo:.4f}\")\n",
    "print(f\"Probabilidad de reprobar las tres materias (b): {P_reprobar_tres_materias:.4f}\")\n"
   ]
  }
 ],
 "metadata": {
  "kernelspec": {
   "display_name": "Python 3",
   "language": "python",
   "name": "python3"
  },
  "language_info": {
   "codemirror_mode": {
    "name": "ipython",
    "version": 3
   },
   "file_extension": ".py",
   "mimetype": "text/x-python",
   "name": "python",
   "nbconvert_exporter": "python",
   "pygments_lexer": "ipython3",
   "version": "3.11.5"
  },
  "orig_nbformat": 4
 },
 "nbformat": 4,
 "nbformat_minor": 2
}
